{
  "nbformat": 4,
  "nbformat_minor": 0,
  "metadata": {
    "colab": {
      "provenance": [],
      "authorship_tag": "ABX9TyMH/rkD7erd4i6rz1TJQGXL",
      "include_colab_link": true
    },
    "kernelspec": {
      "name": "python3",
      "display_name": "Python 3"
    },
    "language_info": {
      "name": "python"
    }
  },
  "cells": [
    {
      "cell_type": "markdown",
      "metadata": {
        "id": "view-in-github",
        "colab_type": "text"
      },
      "source": [
        "<a href=\"https://colab.research.google.com/github/Tanish-04/Deep-Learning-Projects/blob/master/Denoising_Diffusion_Model.ipynb\" target=\"_parent\"><img src=\"https://colab.research.google.com/assets/colab-badge.svg\" alt=\"Open In Colab\"/></a>"
      ]
    },
    {
      "cell_type": "markdown",
      "source": [
        "Introduction:\n",
        "\n",
        "##**What are Diffusion Models:**\n",
        "\n",
        "Diffusion models are trained to denoise noisy images, and can generate images by iteratively denoising pure noise.\n"
      ],
      "metadata": {
        "id": "uXRT6Fq28jvD"
      }
    },
    {
      "cell_type": "markdown",
      "source": [
        "##Importing Libraries"
      ],
      "metadata": {
        "id": "63KSgREJ6XZ7"
      }
    },
    {
      "cell_type": "code",
      "source": [
        "pip install keras-nightly"
      ],
      "metadata": {
        "colab": {
          "base_uri": "https://localhost:8080/",
          "height": 461
        },
        "id": "AGr_r0LecIBw",
        "outputId": "03d543d3-1b20-4086-d8b8-c99642ab353f"
      },
      "execution_count": 6,
      "outputs": [
        {
          "output_type": "stream",
          "name": "stdout",
          "text": [
            "Collecting keras-nightly\n",
            "  Downloading keras_nightly-3.4.0.dev2024062603-py3-none-any.whl (1.1 MB)\n",
            "\u001b[?25l     \u001b[90m━━━━━━━━━━━━━━━━━━━━━━━━━━━━━━━━━━━━━━━━\u001b[0m \u001b[32m0.0/1.1 MB\u001b[0m \u001b[31m?\u001b[0m eta \u001b[36m-:--:--\u001b[0m\r\u001b[2K     \u001b[91m━━━━━━━\u001b[0m\u001b[91m╸\u001b[0m\u001b[90m━━━━━━━━━━━━━━━━━━━━━━━━━━━━━━━━\u001b[0m \u001b[32m0.2/1.1 MB\u001b[0m \u001b[31m6.5 MB/s\u001b[0m eta \u001b[36m0:00:01\u001b[0m\r\u001b[2K     \u001b[90m━━━━━━━━━━━━━━━━━━━━━━━━━━━━━━━━━━━━━━━━\u001b[0m \u001b[32m1.1/1.1 MB\u001b[0m \u001b[31m17.9 MB/s\u001b[0m eta \u001b[36m0:00:00\u001b[0m\n",
            "\u001b[?25hRequirement already satisfied: absl-py in /usr/local/lib/python3.10/dist-packages (from keras-nightly) (1.4.0)\n",
            "Requirement already satisfied: numpy in /usr/local/lib/python3.10/dist-packages (from keras-nightly) (1.25.2)\n",
            "Requirement already satisfied: rich in /usr/local/lib/python3.10/dist-packages (from keras-nightly) (13.7.1)\n",
            "Collecting namex (from keras-nightly)\n",
            "  Downloading namex-0.0.8-py3-none-any.whl (5.8 kB)\n",
            "Requirement already satisfied: h5py in /usr/local/lib/python3.10/dist-packages (from keras-nightly) (3.9.0)\n",
            "Collecting optree (from keras-nightly)\n",
            "  Downloading optree-0.11.0-cp310-cp310-manylinux_2_17_x86_64.manylinux2014_x86_64.whl (311 kB)\n",
            "\u001b[2K     \u001b[90m━━━━━━━━━━━━━━━━━━━━━━━━━━━━━━━━━━━━━━━━\u001b[0m \u001b[32m311.2/311.2 kB\u001b[0m \u001b[31m31.8 MB/s\u001b[0m eta \u001b[36m0:00:00\u001b[0m\n",
            "\u001b[?25hRequirement already satisfied: ml-dtypes in /usr/local/lib/python3.10/dist-packages (from keras-nightly) (0.2.0)\n",
            "Requirement already satisfied: packaging in /usr/local/lib/python3.10/dist-packages (from keras-nightly) (24.1)\n",
            "Requirement already satisfied: typing-extensions>=4.0.0 in /usr/local/lib/python3.10/dist-packages (from optree->keras-nightly) (4.12.2)\n",
            "Requirement already satisfied: markdown-it-py>=2.2.0 in /usr/local/lib/python3.10/dist-packages (from rich->keras-nightly) (3.0.0)\n",
            "Requirement already satisfied: pygments<3.0.0,>=2.13.0 in /usr/local/lib/python3.10/dist-packages (from rich->keras-nightly) (2.16.1)\n",
            "Requirement already satisfied: mdurl~=0.1 in /usr/local/lib/python3.10/dist-packages (from markdown-it-py>=2.2.0->rich->keras-nightly) (0.1.2)\n",
            "Installing collected packages: namex, optree, keras-nightly\n",
            "Successfully installed keras-nightly-3.4.0.dev2024062603 namex-0.0.8 optree-0.11.0\n"
          ]
        },
        {
          "output_type": "display_data",
          "data": {
            "application/vnd.colab-display-data+json": {
              "pip_warning": {
                "packages": [
                  "keras"
                ]
              },
              "id": "1145d9a7006a4c83a178bb409415a3fe"
            }
          },
          "metadata": {}
        }
      ]
    },
    {
      "cell_type": "code",
      "execution_count": 1,
      "metadata": {
        "id": "4-XBJqLha7CA"
      },
      "outputs": [],
      "source": [
        "import os\n",
        "\n",
        "os.environ[\"KERAS_BACKEND\"] = \"tensorflow\"\n",
        "\n",
        "import math\n",
        "import matplotlib.pyplot as plt\n",
        "import tensorflow as tf\n",
        "import tensorflow_datasets as tfds\n",
        "\n",
        "import keras\n",
        "from keras import layers\n",
        "from keras import ops"
      ]
    },
    {
      "cell_type": "markdown",
      "source": [
        "##Hyperparameters"
      ],
      "metadata": {
        "id": "AZb9ssu5bMDE"
      }
    },
    {
      "cell_type": "code",
      "source": [
        "# data\n",
        "dataset_name = \"oxford_flowers102\"\n",
        "dataset_repetitions = 5\n",
        "num_epochs = 1  # train for at least 50 epochs for good results\n",
        "image_size = 64\n",
        "# KID = Kernel Inception Distance, see related section\n",
        "kid_image_size = 75\n",
        "kid_diffusion_steps = 5\n",
        "plot_diffusion_steps = 20\n",
        "\n",
        "# sampling\n",
        "min_signal_rate = 0.02\n",
        "max_signal_rate = 0.95\n",
        "\n",
        "# architecture\n",
        "embedding_dims = 32\n",
        "embedding_max_frequency = 1000.0\n",
        "widths = [32, 64, 96, 128]\n",
        "block_depth = 2\n",
        "\n",
        "# optimization\n",
        "batch_size = 64\n",
        "ema = 0.999\n",
        "learning_rate = 1e-3\n",
        "weight_decay = 1e-4"
      ],
      "metadata": {
        "id": "jY8UA6CWbAu6"
      },
      "execution_count": 2,
      "outputs": []
    },
    {
      "cell_type": "markdown",
      "source": [
        "##Data Pipeline\n"
      ],
      "metadata": {
        "id": "kNJ03qzAbT2S"
      }
    },
    {
      "cell_type": "code",
      "source": [
        "\n",
        "def preprocess_image(data):\n",
        "    # center crop image\n",
        "    height = ops.shape(data[\"image\"])[0]\n",
        "    width = ops.shape(data[\"image\"])[1]\n",
        "    crop_size = ops.minimum(height, width)\n",
        "    image = tf.image.crop_to_bounding_box(\n",
        "        data[\"image\"],\n",
        "        (height - crop_size) // 2,\n",
        "        (width - crop_size) // 2,\n",
        "        crop_size,\n",
        "        crop_size,\n",
        "    )\n",
        "\n",
        "    # resize and clip\n",
        "    # for image downsampling it is important to turn on antialiasing\n",
        "    image = tf.image.resize(image, size=[image_size, image_size], antialias=True)\n",
        "    return ops.clip(image / 255.0, 0.0, 1.0)\n",
        "\n",
        "\n",
        "def prepare_dataset(split):\n",
        "    # the validation dataset is shuffled as well, because data order matters\n",
        "    # for the KID estimation\n",
        "    return (\n",
        "        tfds.load(dataset_name, split=split, shuffle_files=True)\n",
        "        .map(preprocess_image, num_parallel_calls=tf.data.AUTOTUNE)\n",
        "        .cache()\n",
        "        .repeat(dataset_repetitions)\n",
        "        .shuffle(10 * batch_size)\n",
        "        .batch(batch_size, drop_remainder=True)\n",
        "        .prefetch(buffer_size=tf.data.AUTOTUNE)\n",
        "    )\n",
        "\n",
        "\n",
        "# load dataset\n",
        "train_dataset = prepare_dataset(\"train[:80%]+validation[:80%]+test[:80%]\")\n",
        "val_dataset = prepare_dataset(\"train[80%:]+validation[80%:]+test[80%:]\")"
      ],
      "metadata": {
        "id": "18P2FEAlbOJO"
      },
      "execution_count": 3,
      "outputs": []
    },
    {
      "cell_type": "markdown",
      "source": [
        "##Kernel Inception Distance"
      ],
      "metadata": {
        "id": "Xh5SEz8KbfZi"
      }
    },
    {
      "cell_type": "code",
      "source": [
        "@keras.saving.register_keras_serializable()\n",
        "class KID(keras.metrics.Metric):\n",
        "    def __init__(self, name, **kwargs):\n",
        "        super().__init__(name=name, **kwargs)\n",
        "\n",
        "        # KID is estimated per batch and is averaged across batches\n",
        "        self.kid_tracker = keras.metrics.Mean(name=\"kid_tracker\")\n",
        "\n",
        "        # a pretrained InceptionV3 is used without its classification layer\n",
        "        # transform the pixel values to the 0-255 range, then use the same\n",
        "        # preprocessing as during pretraining\n",
        "        self.encoder = keras.Sequential(\n",
        "            [\n",
        "                keras.Input(shape=(image_size, image_size, 3)),\n",
        "                layers.Rescaling(255.0),\n",
        "                layers.Resizing(height=kid_image_size, width=kid_image_size),\n",
        "                layers.Lambda(keras.applications.inception_v3.preprocess_input),\n",
        "                keras.applications.InceptionV3(\n",
        "                    include_top=False,\n",
        "                    input_shape=(kid_image_size, kid_image_size, 3),\n",
        "                    weights=\"imagenet\",\n",
        "                ),\n",
        "                layers.GlobalAveragePooling2D(),\n",
        "            ],\n",
        "            name=\"inception_encoder\",\n",
        "        )\n",
        "\n",
        "    def polynomial_kernel(self, features_1, features_2):\n",
        "        feature_dimensions = ops.cast(ops.shape(features_1)[1], dtype=\"float32\")\n",
        "        return (\n",
        "            features_1 @ ops.transpose(features_2) / feature_dimensions + 1.0\n",
        "        ) ** 3.0\n",
        "\n",
        "    def update_state(self, real_images, generated_images, sample_weight=None):\n",
        "        real_features = self.encoder(real_images, training=False)\n",
        "        generated_features = self.encoder(generated_images, training=False)\n",
        "\n",
        "        # compute polynomial kernels using the two sets of features\n",
        "        kernel_real = self.polynomial_kernel(real_features, real_features)\n",
        "        kernel_generated = self.polynomial_kernel(\n",
        "            generated_features, generated_features\n",
        "        )\n",
        "        kernel_cross = self.polynomial_kernel(real_features, generated_features)\n",
        "\n",
        "        # estimate the squared maximum mean discrepancy using the average kernel values\n",
        "        batch_size = real_features.shape[0]\n",
        "        batch_size_f = ops.cast(batch_size, dtype=\"float32\")\n",
        "        mean_kernel_real = ops.sum(kernel_real * (1.0 - ops.eye(batch_size))) / (\n",
        "            batch_size_f * (batch_size_f - 1.0)\n",
        "        )\n",
        "        mean_kernel_generated = ops.sum(\n",
        "            kernel_generated * (1.0 - ops.eye(batch_size))\n",
        "        ) / (batch_size_f * (batch_size_f - 1.0))\n",
        "        mean_kernel_cross = ops.mean(kernel_cross)\n",
        "        kid = mean_kernel_real + mean_kernel_generated - 2.0 * mean_kernel_cross\n",
        "\n",
        "        # update the average KID estimate\n",
        "        self.kid_tracker.update_state(kid)\n",
        "\n",
        "    def result(self):\n",
        "        return self.kid_tracker.result()\n",
        "\n",
        "    def reset_state(self):\n",
        "        self.kid_tracker.reset_state()\n"
      ],
      "metadata": {
        "id": "lZmi00rPbXoQ"
      },
      "execution_count": 4,
      "outputs": []
    },
    {
      "cell_type": "markdown",
      "source": [
        "##Network Architecture"
      ],
      "metadata": {
        "id": "EkYRV_EtbmP_"
      }
    },
    {
      "cell_type": "code",
      "source": [
        "@keras.saving.register_keras_serializable()\n",
        "def sinusoidal_embedding(x):\n",
        "    embedding_min_frequency = 1.0\n",
        "    frequencies = ops.exp(\n",
        "        ops.linspace(\n",
        "            ops.log(embedding_min_frequency),\n",
        "            ops.log(embedding_max_frequency),\n",
        "            embedding_dims // 2,\n",
        "        )\n",
        "    )\n",
        "    angular_speeds = ops.cast(2.0 * math.pi * frequencies, \"float32\")\n",
        "    embeddings = ops.concatenate(\n",
        "        [ops.sin(angular_speeds * x), ops.cos(angular_speeds * x)], axis=3\n",
        "    )\n",
        "    return embeddings\n",
        "\n",
        "\n",
        "def ResidualBlock(width):\n",
        "    def apply(x):\n",
        "        input_width = x.shape[3]\n",
        "        if input_width == width:\n",
        "            residual = x\n",
        "        else:\n",
        "            residual = layers.Conv2D(width, kernel_size=1)(x)\n",
        "        x = layers.BatchNormalization(center=False, scale=False)(x)\n",
        "        x = layers.Conv2D(width, kernel_size=3, padding=\"same\", activation=\"swish\")(x)\n",
        "        x = layers.Conv2D(width, kernel_size=3, padding=\"same\")(x)\n",
        "        x = layers.Add()([x, residual])\n",
        "        return x\n",
        "\n",
        "    return apply\n",
        "\n",
        "\n",
        "def DownBlock(width, block_depth):\n",
        "    def apply(x):\n",
        "        x, skips = x\n",
        "        for _ in range(block_depth):\n",
        "            x = ResidualBlock(width)(x)\n",
        "            skips.append(x)\n",
        "        x = layers.AveragePooling2D(pool_size=2)(x)\n",
        "        return x\n",
        "\n",
        "    return apply\n",
        "\n",
        "\n",
        "def UpBlock(width, block_depth):\n",
        "    def apply(x):\n",
        "        x, skips = x\n",
        "        x = layers.UpSampling2D(size=2, interpolation=\"bilinear\")(x)\n",
        "        for _ in range(block_depth):\n",
        "            x = layers.Concatenate()([x, skips.pop()])\n",
        "            x = ResidualBlock(width)(x)\n",
        "        return x\n",
        "\n",
        "    return apply\n",
        "\n",
        "\n",
        "def get_network(image_size, widths, block_depth):\n",
        "    noisy_images = keras.Input(shape=(image_size, image_size, 3))\n",
        "    noise_variances = keras.Input(shape=(1, 1, 1))\n",
        "\n",
        "    e = layers.Lambda(sinusoidal_embedding, output_shape=(1, 1, 32))(noise_variances)\n",
        "    e = layers.UpSampling2D(size=image_size, interpolation=\"nearest\")(e)\n",
        "\n",
        "    x = layers.Conv2D(widths[0], kernel_size=1)(noisy_images)\n",
        "    x = layers.Concatenate()([x, e])\n",
        "\n",
        "    skips = []\n",
        "    for width in widths[:-1]:\n",
        "        x = DownBlock(width, block_depth)([x, skips])\n",
        "\n",
        "    for _ in range(block_depth):\n",
        "        x = ResidualBlock(widths[-1])(x)\n",
        "\n",
        "    for width in reversed(widths[:-1]):\n",
        "        x = UpBlock(width, block_depth)([x, skips])\n",
        "\n",
        "    x = layers.Conv2D(3, kernel_size=1, kernel_initializer=\"zeros\")(x)\n",
        "\n",
        "    return keras.Model([noisy_images, noise_variances], x, name=\"residual_unet\")\n"
      ],
      "metadata": {
        "id": "l7oanSWFbnpM"
      },
      "execution_count": 5,
      "outputs": []
    },
    {
      "cell_type": "markdown",
      "source": [
        "##Diffusion Model"
      ],
      "metadata": {
        "id": "sGnA5nwTbtDN"
      }
    },
    {
      "cell_type": "code",
      "source": [
        "@keras.saving.register_keras_serializable()\n",
        "class DiffusionModel(keras.Model):\n",
        "    def __init__(self, image_size, widths, block_depth):\n",
        "        super().__init__()\n",
        "\n",
        "        self.normalizer = layers.Normalization()\n",
        "        self.network = get_network(image_size, widths, block_depth)\n",
        "        self.ema_network = keras.models.clone_model(self.network)\n",
        "\n",
        "    def compile(self, **kwargs):\n",
        "        super().compile(**kwargs)\n",
        "\n",
        "        self.noise_loss_tracker = keras.metrics.Mean(name=\"n_loss\")\n",
        "        self.image_loss_tracker = keras.metrics.Mean(name=\"i_loss\")\n",
        "        self.kid = KID(name=\"kid\")\n",
        "\n",
        "    @property\n",
        "    def metrics(self):\n",
        "        return [self.noise_loss_tracker, self.image_loss_tracker, self.kid]\n",
        "\n",
        "    def denormalize(self, images):\n",
        "        # convert the pixel values back to 0-1 range\n",
        "        images = self.normalizer.mean + images * self.normalizer.variance**0.5\n",
        "        return ops.clip(images, 0.0, 1.0)\n",
        "\n",
        "    def diffusion_schedule(self, diffusion_times):\n",
        "        # diffusion times -> angles\n",
        "        start_angle = ops.cast(ops.arccos(max_signal_rate), \"float32\")\n",
        "        end_angle = ops.cast(ops.arccos(min_signal_rate), \"float32\")\n",
        "\n",
        "        diffusion_angles = start_angle + diffusion_times * (end_angle - start_angle)\n",
        "\n",
        "        # angles -> signal and noise rates\n",
        "        signal_rates = ops.cos(diffusion_angles)\n",
        "        noise_rates = ops.sin(diffusion_angles)\n",
        "        # note that their squared sum is always: sin^2(x) + cos^2(x) = 1\n",
        "\n",
        "        return noise_rates, signal_rates\n",
        "\n",
        "    def denoise(self, noisy_images, noise_rates, signal_rates, training):\n",
        "        # the exponential moving average weights are used at evaluation\n",
        "        if training:\n",
        "            network = self.network\n",
        "        else:\n",
        "            network = self.ema_network\n",
        "\n",
        "        # predict noise component and calculate the image component using it\n",
        "        pred_noises = network([noisy_images, noise_rates**2], training=training)\n",
        "        pred_images = (noisy_images - noise_rates * pred_noises) / signal_rates\n",
        "\n",
        "        return pred_noises, pred_images\n",
        "\n",
        "    def reverse_diffusion(self, initial_noise, diffusion_steps):\n",
        "        # reverse diffusion = sampling\n",
        "        num_images = initial_noise.shape[0]\n",
        "        step_size = 1.0 / diffusion_steps\n",
        "\n",
        "        # important line:\n",
        "        # at the first sampling step, the \"noisy image\" is pure noise\n",
        "        # but its signal rate is assumed to be nonzero (min_signal_rate)\n",
        "        next_noisy_images = initial_noise\n",
        "        for step in range(diffusion_steps):\n",
        "            noisy_images = next_noisy_images\n",
        "\n",
        "            # separate the current noisy image to its components\n",
        "            diffusion_times = ops.ones((num_images, 1, 1, 1)) - step * step_size\n",
        "            noise_rates, signal_rates = self.diffusion_schedule(diffusion_times)\n",
        "            pred_noises, pred_images = self.denoise(\n",
        "                noisy_images, noise_rates, signal_rates, training=False\n",
        "            )\n",
        "            # network used in eval mode\n",
        "\n",
        "            # remix the predicted components using the next signal and noise rates\n",
        "            next_diffusion_times = diffusion_times - step_size\n",
        "            next_noise_rates, next_signal_rates = self.diffusion_schedule(\n",
        "                next_diffusion_times\n",
        "            )\n",
        "            next_noisy_images = (\n",
        "                next_signal_rates * pred_images + next_noise_rates * pred_noises\n",
        "            )\n",
        "            # this new noisy image will be used in the next step\n",
        "\n",
        "        return pred_images\n",
        "\n",
        "    def generate(self, num_images, diffusion_steps):\n",
        "        # noise -> images -> denormalized images\n",
        "        initial_noise = keras.random.normal(\n",
        "            shape=(num_images, image_size, image_size, 3)\n",
        "        )\n",
        "        generated_images = self.reverse_diffusion(initial_noise, diffusion_steps)\n",
        "        generated_images = self.denormalize(generated_images)\n",
        "        return generated_images\n",
        "\n",
        "    def train_step(self, images):\n",
        "        # normalize images to have standard deviation of 1, like the noises\n",
        "        images = self.normalizer(images, training=True)\n",
        "        noises = keras.random.normal(shape=(batch_size, image_size, image_size, 3))\n",
        "\n",
        "        # sample uniform random diffusion times\n",
        "        diffusion_times = keras.random.uniform(\n",
        "            shape=(batch_size, 1, 1, 1), minval=0.0, maxval=1.0\n",
        "        )\n",
        "        noise_rates, signal_rates = self.diffusion_schedule(diffusion_times)\n",
        "        # mix the images with noises accordingly\n",
        "        noisy_images = signal_rates * images + noise_rates * noises\n",
        "\n",
        "        with tf.GradientTape() as tape:\n",
        "            # train the network to separate noisy images to their components\n",
        "            pred_noises, pred_images = self.denoise(\n",
        "                noisy_images, noise_rates, signal_rates, training=True\n",
        "            )\n",
        "\n",
        "            noise_loss = self.loss(noises, pred_noises)  # used for training\n",
        "            image_loss = self.loss(images, pred_images)  # only used as metric\n",
        "\n",
        "        gradients = tape.gradient(noise_loss, self.network.trainable_weights)\n",
        "        self.optimizer.apply_gradients(zip(gradients, self.network.trainable_weights))\n",
        "\n",
        "        self.noise_loss_tracker.update_state(noise_loss)\n",
        "        self.image_loss_tracker.update_state(image_loss)\n",
        "\n",
        "        # track the exponential moving averages of weights\n",
        "        for weight, ema_weight in zip(self.network.weights, self.ema_network.weights):\n",
        "            ema_weight.assign(ema * ema_weight + (1 - ema) * weight)\n",
        "\n",
        "        # KID is not measured during the training phase for computational efficiency\n",
        "        return {m.name: m.result() for m in self.metrics[:-1]}\n",
        "\n",
        "    def test_step(self, images):\n",
        "        # normalize images to have standard deviation of 1, like the noises\n",
        "        images = self.normalizer(images, training=False)\n",
        "        noises = keras.random.normal(shape=(batch_size, image_size, image_size, 3))\n",
        "\n",
        "        # sample uniform random diffusion times\n",
        "        diffusion_times = keras.random.uniform(\n",
        "            shape=(batch_size, 1, 1, 1), minval=0.0, maxval=1.0\n",
        "        )\n",
        "        noise_rates, signal_rates = self.diffusion_schedule(diffusion_times)\n",
        "        # mix the images with noises accordingly\n",
        "        noisy_images = signal_rates * images + noise_rates * noises\n",
        "\n",
        "        # use the network to separate noisy images to their components\n",
        "        pred_noises, pred_images = self.denoise(\n",
        "            noisy_images, noise_rates, signal_rates, training=False\n",
        "        )\n",
        "\n",
        "        noise_loss = self.loss(noises, pred_noises)\n",
        "        image_loss = self.loss(images, pred_images)\n",
        "\n",
        "        self.image_loss_tracker.update_state(image_loss)\n",
        "        self.noise_loss_tracker.update_state(noise_loss)\n",
        "\n",
        "        # measure KID between real and generated images\n",
        "        # this is computationally demanding, kid_diffusion_steps has to be small\n",
        "        images = self.denormalize(images)\n",
        "        generated_images = self.generate(\n",
        "            num_images=batch_size, diffusion_steps=kid_diffusion_steps\n",
        "        )\n",
        "        self.kid.update_state(images, generated_images)\n",
        "\n",
        "        return {m.name: m.result() for m in self.metrics}\n",
        "\n",
        "    def plot_images(self, epoch=None, logs=None, num_rows=3, num_cols=6):\n",
        "        # plot random generated images for visual evaluation of generation quality\n",
        "        generated_images = self.generate(\n",
        "            num_images=num_rows * num_cols,\n",
        "            diffusion_steps=plot_diffusion_steps,\n",
        "        )\n",
        "\n",
        "        plt.figure(figsize=(num_cols * 2.0, num_rows * 2.0))\n",
        "        for row in range(num_rows):\n",
        "            for col in range(num_cols):\n",
        "                index = row * num_cols + col\n",
        "                plt.subplot(num_rows, num_cols, index + 1)\n",
        "                plt.imshow(generated_images[index])\n",
        "                plt.axis(\"off\")\n",
        "        plt.tight_layout()\n",
        "        plt.show()\n",
        "        plt.close()\n"
      ],
      "metadata": {
        "id": "OQCQ07subqtk"
      },
      "execution_count": 6,
      "outputs": []
    },
    {
      "cell_type": "markdown",
      "source": [
        "##Training"
      ],
      "metadata": {
        "id": "PqheJBU69nYi"
      }
    },
    {
      "cell_type": "code",
      "source": [
        "# create and compile the model\n",
        "model = DiffusionModel(image_size, widths, block_depth)\n",
        "# below tensorflow 2.9:\n",
        "# pip install tensorflow_addons\n",
        "# import tensorflow_addons as tfa\n",
        "# optimizer=tfa.optimizers.AdamW\n",
        "model.compile(\n",
        "    optimizer=keras.optimizers.AdamW(\n",
        "        learning_rate=learning_rate, weight_decay=weight_decay\n",
        "    ),\n",
        "    loss=keras.losses.mean_absolute_error,\n",
        ")\n",
        "# pixelwise mean absolute error is used as loss\n",
        "\n",
        "# save the best model based on the validation KID metric\n",
        "checkpoint_path = \"checkpoints/diffusion_model.weights.h5\"\n",
        "checkpoint_callback = keras.callbacks.ModelCheckpoint(\n",
        "    filepath=checkpoint_path,\n",
        "    save_weights_only=True,\n",
        "    monitor=\"val_kid\",\n",
        "    mode=\"min\",\n",
        "    save_best_only=True,\n",
        ")\n",
        "\n",
        "# calculate mean and variance of training dataset for normalization\n",
        "model.normalizer.adapt(train_dataset)\n",
        "\n",
        "# run training and plot generated images periodically\n",
        "model.fit(\n",
        "    train_dataset,\n",
        "    epochs=num_epochs,\n",
        "    validation_data=val_dataset,\n",
        "    callbacks=[\n",
        "        keras.callbacks.LambdaCallback(on_epoch_end=model.plot_images),\n",
        "        checkpoint_callback,\n",
        "    ],\n",
        ")"
      ],
      "metadata": {
        "colab": {
          "base_uri": "https://localhost:8080/"
        },
        "id": "C6yxM2H8cgmV",
        "outputId": "c4bd1697-2a04-4b48-dcc3-db6e14ce1749"
      },
      "execution_count": null,
      "outputs": [
        {
          "output_type": "stream",
          "name": "stdout",
          "text": [
            "Downloading data from https://storage.googleapis.com/tensorflow/keras-applications/inception_v3/inception_v3_weights_tf_dim_ordering_tf_kernels_notop.h5\n",
            "\u001b[1m87910968/87910968\u001b[0m \u001b[32m━━━━━━━━━━━━━━━━━━━━\u001b[0m\u001b[37m\u001b[0m \u001b[1m1s\u001b[0m 0us/step\n",
            "\u001b[1m511/511\u001b[0m \u001b[32m━━━━━━━━━━━━━━━━━━━━\u001b[0m\u001b[37m\u001b[0m \u001b[1m0s\u001b[0m 17s/step - i_loss: 0.6411 - n_loss: 0.2815 "
          ]
        }
      ]
    },
    {
      "cell_type": "markdown",
      "source": [
        "##Inference"
      ],
      "metadata": {
        "id": "QYxX9By19rc8"
      }
    },
    {
      "cell_type": "code",
      "source": [
        "# load the best model and generate images\n",
        "model.load_weights(checkpoint_path)\n",
        "model.plot_images()"
      ],
      "metadata": {
        "id": "CWVEyatmci3G"
      },
      "execution_count": null,
      "outputs": []
    },
    {
      "cell_type": "code",
      "source": [],
      "metadata": {
        "id": "MRv0Kxq5CiYX"
      },
      "execution_count": null,
      "outputs": []
    }
  ]
}